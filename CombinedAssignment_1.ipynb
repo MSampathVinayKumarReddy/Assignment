{
  "nbformat": 4,
  "nbformat_minor": 0,
  "metadata": {
    "colab": {
      "name": "CombinedAssignment-1.ipynb",
      "provenance": []
    },
    "kernelspec": {
      "name": "python3",
      "display_name": "Python 3"
    },
    "language_info": {
      "name": "python"
    }
  },
  "cells": [
    {
      "cell_type": "code",
      "metadata": {
        "id": "B1k1VMEIVLFe"
      },
      "source": [
        "import numpy as np\n",
        "import pandas as pd\n",
        "import matplotlib.pyplot as plt\n",
        "import seaborn as sns\n",
        "%matplotlib inline"
      ],
      "execution_count": 1,
      "outputs": []
    },
    {
      "cell_type": "code",
      "metadata": {
        "colab": {
          "base_uri": "https://localhost:8080/",
          "height": 210
        },
        "id": "H1cMtl5kVoVk",
        "outputId": "206f1121-30e3-4870-d9e7-2d77cec4e48e"
      },
      "source": [
        "nba=pd.read_csv(\"nba_2013.csv\")\n",
        "nba.head(3)"
      ],
      "execution_count": 6,
      "outputs": [
        {
          "output_type": "execute_result",
          "data": {
            "text/html": [
              "<div>\n",
              "<style scoped>\n",
              "    .dataframe tbody tr th:only-of-type {\n",
              "        vertical-align: middle;\n",
              "    }\n",
              "\n",
              "    .dataframe tbody tr th {\n",
              "        vertical-align: top;\n",
              "    }\n",
              "\n",
              "    .dataframe thead th {\n",
              "        text-align: right;\n",
              "    }\n",
              "</style>\n",
              "<table border=\"1\" class=\"dataframe\">\n",
              "  <thead>\n",
              "    <tr style=\"text-align: right;\">\n",
              "      <th></th>\n",
              "      <th>player</th>\n",
              "      <th>pos</th>\n",
              "      <th>age</th>\n",
              "      <th>bref_team_id</th>\n",
              "      <th>g</th>\n",
              "      <th>gs</th>\n",
              "      <th>mp</th>\n",
              "      <th>fg</th>\n",
              "      <th>fga</th>\n",
              "      <th>fg.</th>\n",
              "      <th>x3p</th>\n",
              "      <th>x3pa</th>\n",
              "      <th>x3p.</th>\n",
              "      <th>x2p</th>\n",
              "      <th>x2pa</th>\n",
              "      <th>x2p.</th>\n",
              "      <th>efg.</th>\n",
              "      <th>ft</th>\n",
              "      <th>fta</th>\n",
              "      <th>ft.</th>\n",
              "      <th>orb</th>\n",
              "      <th>drb</th>\n",
              "      <th>trb</th>\n",
              "      <th>ast</th>\n",
              "      <th>stl</th>\n",
              "      <th>blk</th>\n",
              "      <th>tov</th>\n",
              "      <th>pf</th>\n",
              "      <th>pts</th>\n",
              "      <th>season</th>\n",
              "      <th>season_end</th>\n",
              "    </tr>\n",
              "  </thead>\n",
              "  <tbody>\n",
              "    <tr>\n",
              "      <th>0</th>\n",
              "      <td>Quincy Acy</td>\n",
              "      <td>SF</td>\n",
              "      <td>23</td>\n",
              "      <td>TOT</td>\n",
              "      <td>63</td>\n",
              "      <td>0</td>\n",
              "      <td>847</td>\n",
              "      <td>66</td>\n",
              "      <td>141</td>\n",
              "      <td>0.468</td>\n",
              "      <td>4</td>\n",
              "      <td>15</td>\n",
              "      <td>0.266667</td>\n",
              "      <td>62</td>\n",
              "      <td>126</td>\n",
              "      <td>0.492063</td>\n",
              "      <td>0.482</td>\n",
              "      <td>35</td>\n",
              "      <td>53</td>\n",
              "      <td>0.660</td>\n",
              "      <td>72</td>\n",
              "      <td>144</td>\n",
              "      <td>216</td>\n",
              "      <td>28</td>\n",
              "      <td>23</td>\n",
              "      <td>26</td>\n",
              "      <td>30</td>\n",
              "      <td>122</td>\n",
              "      <td>171</td>\n",
              "      <td>2013-2014</td>\n",
              "      <td>2013</td>\n",
              "    </tr>\n",
              "    <tr>\n",
              "      <th>1</th>\n",
              "      <td>Steven Adams</td>\n",
              "      <td>C</td>\n",
              "      <td>20</td>\n",
              "      <td>OKC</td>\n",
              "      <td>81</td>\n",
              "      <td>20</td>\n",
              "      <td>1197</td>\n",
              "      <td>93</td>\n",
              "      <td>185</td>\n",
              "      <td>0.503</td>\n",
              "      <td>0</td>\n",
              "      <td>0</td>\n",
              "      <td>NaN</td>\n",
              "      <td>93</td>\n",
              "      <td>185</td>\n",
              "      <td>0.502703</td>\n",
              "      <td>0.503</td>\n",
              "      <td>79</td>\n",
              "      <td>136</td>\n",
              "      <td>0.581</td>\n",
              "      <td>142</td>\n",
              "      <td>190</td>\n",
              "      <td>332</td>\n",
              "      <td>43</td>\n",
              "      <td>40</td>\n",
              "      <td>57</td>\n",
              "      <td>71</td>\n",
              "      <td>203</td>\n",
              "      <td>265</td>\n",
              "      <td>2013-2014</td>\n",
              "      <td>2013</td>\n",
              "    </tr>\n",
              "    <tr>\n",
              "      <th>2</th>\n",
              "      <td>Jeff Adrien</td>\n",
              "      <td>PF</td>\n",
              "      <td>27</td>\n",
              "      <td>TOT</td>\n",
              "      <td>53</td>\n",
              "      <td>12</td>\n",
              "      <td>961</td>\n",
              "      <td>143</td>\n",
              "      <td>275</td>\n",
              "      <td>0.520</td>\n",
              "      <td>0</td>\n",
              "      <td>0</td>\n",
              "      <td>NaN</td>\n",
              "      <td>143</td>\n",
              "      <td>275</td>\n",
              "      <td>0.520000</td>\n",
              "      <td>0.520</td>\n",
              "      <td>76</td>\n",
              "      <td>119</td>\n",
              "      <td>0.639</td>\n",
              "      <td>102</td>\n",
              "      <td>204</td>\n",
              "      <td>306</td>\n",
              "      <td>38</td>\n",
              "      <td>24</td>\n",
              "      <td>36</td>\n",
              "      <td>39</td>\n",
              "      <td>108</td>\n",
              "      <td>362</td>\n",
              "      <td>2013-2014</td>\n",
              "      <td>2013</td>\n",
              "    </tr>\n",
              "  </tbody>\n",
              "</table>\n",
              "</div>"
            ],
            "text/plain": [
              "         player pos  age bref_team_id   g  ...  tov   pf  pts     season  season_end\n",
              "0    Quincy Acy  SF   23          TOT  63  ...   30  122  171  2013-2014        2013\n",
              "1  Steven Adams   C   20          OKC  81  ...   71  203  265  2013-2014        2013\n",
              "2   Jeff Adrien  PF   27          TOT  53  ...   39  108  362  2013-2014        2013\n",
              "\n",
              "[3 rows x 31 columns]"
            ]
          },
          "metadata": {
            "tags": []
          },
          "execution_count": 6
        }
      ]
    },
    {
      "cell_type": "code",
      "metadata": {
        "colab": {
          "base_uri": "https://localhost:8080/"
        },
        "id": "jvuKKgVLVyqx",
        "outputId": "63c99964-19f0-4ed2-fdc5-738ed53732e4"
      },
      "source": [
        "nba.shape"
      ],
      "execution_count": 7,
      "outputs": [
        {
          "output_type": "execute_result",
          "data": {
            "text/plain": [
              "(481, 31)"
            ]
          },
          "metadata": {
            "tags": []
          },
          "execution_count": 7
        }
      ]
    },
    {
      "cell_type": "code",
      "metadata": {
        "colab": {
          "base_uri": "https://localhost:8080/"
        },
        "id": "scRI7ykvW3ID",
        "outputId": "7784b855-12b6-4198-b668-0aca17cf7772"
      },
      "source": [
        "nba.info()"
      ],
      "execution_count": 9,
      "outputs": [
        {
          "output_type": "stream",
          "text": [
            "<class 'pandas.core.frame.DataFrame'>\n",
            "RangeIndex: 481 entries, 0 to 480\n",
            "Data columns (total 31 columns):\n",
            " #   Column        Non-Null Count  Dtype  \n",
            "---  ------        --------------  -----  \n",
            " 0   player        481 non-null    object \n",
            " 1   pos           481 non-null    object \n",
            " 2   age           481 non-null    int64  \n",
            " 3   bref_team_id  481 non-null    object \n",
            " 4   g             481 non-null    int64  \n",
            " 5   gs            481 non-null    int64  \n",
            " 6   mp            481 non-null    int64  \n",
            " 7   fg            481 non-null    int64  \n",
            " 8   fga           481 non-null    int64  \n",
            " 9   fg.           479 non-null    float64\n",
            " 10  x3p           481 non-null    int64  \n",
            " 11  x3pa          481 non-null    int64  \n",
            " 12  x3p.          414 non-null    float64\n",
            " 13  x2p           481 non-null    int64  \n",
            " 14  x2pa          481 non-null    int64  \n",
            " 15  x2p.          478 non-null    float64\n",
            " 16  efg.          479 non-null    float64\n",
            " 17  ft            481 non-null    int64  \n",
            " 18  fta           481 non-null    int64  \n",
            " 19  ft.           461 non-null    float64\n",
            " 20  orb           481 non-null    int64  \n",
            " 21  drb           481 non-null    int64  \n",
            " 22  trb           481 non-null    int64  \n",
            " 23  ast           481 non-null    int64  \n",
            " 24  stl           481 non-null    int64  \n",
            " 25  blk           481 non-null    int64  \n",
            " 26  tov           481 non-null    int64  \n",
            " 27  pf            481 non-null    int64  \n",
            " 28  pts           481 non-null    int64  \n",
            " 29  season        481 non-null    object \n",
            " 30  season_end    481 non-null    int64  \n",
            "dtypes: float64(5), int64(22), object(4)\n",
            "memory usage: 116.6+ KB\n"
          ],
          "name": "stdout"
        }
      ]
    },
    {
      "cell_type": "code",
      "metadata": {
        "colab": {
          "base_uri": "https://localhost:8080/"
        },
        "id": "WDWinYbpYRZ2",
        "outputId": "fa48c2b5-dcb3-4306-bc62-5de3ab621bdf"
      },
      "source": [
        "nba.isnull().sum()"
      ],
      "execution_count": 10,
      "outputs": [
        {
          "output_type": "execute_result",
          "data": {
            "text/plain": [
              "player           0\n",
              "pos              0\n",
              "age              0\n",
              "bref_team_id     0\n",
              "g                0\n",
              "gs               0\n",
              "mp               0\n",
              "fg               0\n",
              "fga              0\n",
              "fg.              2\n",
              "x3p              0\n",
              "x3pa             0\n",
              "x3p.            67\n",
              "x2p              0\n",
              "x2pa             0\n",
              "x2p.             3\n",
              "efg.             2\n",
              "ft               0\n",
              "fta              0\n",
              "ft.             20\n",
              "orb              0\n",
              "drb              0\n",
              "trb              0\n",
              "ast              0\n",
              "stl              0\n",
              "blk              0\n",
              "tov              0\n",
              "pf               0\n",
              "pts              0\n",
              "season           0\n",
              "season_end       0\n",
              "dtype: int64"
            ]
          },
          "metadata": {
            "tags": []
          },
          "execution_count": 10
        }
      ]
    },
    {
      "cell_type": "code",
      "metadata": {
        "colab": {
          "base_uri": "https://localhost:8080/"
        },
        "id": "P7-IdDQEbTyy",
        "outputId": "ee9e9dc7-2462-4ce9-c456-24b3c2cc0637"
      },
      "source": [
        "nba.dtypes"
      ],
      "execution_count": 16,
      "outputs": [
        {
          "output_type": "execute_result",
          "data": {
            "text/plain": [
              "player           object\n",
              "pos              object\n",
              "age               int64\n",
              "bref_team_id     object\n",
              "g                 int64\n",
              "gs                int64\n",
              "mp                int64\n",
              "fg                int64\n",
              "fga               int64\n",
              "fg.             float64\n",
              "x3p               int64\n",
              "x3pa              int64\n",
              "x3p.            float64\n",
              "x2p               int64\n",
              "x2pa              int64\n",
              "x2p.            float64\n",
              "efg.            float64\n",
              "ft                int64\n",
              "fta               int64\n",
              "ft.             float64\n",
              "orb               int64\n",
              "drb               int64\n",
              "trb               int64\n",
              "ast               int64\n",
              "stl               int64\n",
              "blk               int64\n",
              "tov               int64\n",
              "pf                int64\n",
              "pts               int64\n",
              "season           object\n",
              "season_end        int64\n",
              "dtype: object"
            ]
          },
          "metadata": {
            "tags": []
          },
          "execution_count": 16
        }
      ]
    },
    {
      "cell_type": "code",
      "metadata": {
        "id": "qrw4L3y-aU6k"
      },
      "source": [
        "nba['fg.'].fillna(nba['fg.'].median(),inplace=True)"
      ],
      "execution_count": 13,
      "outputs": []
    },
    {
      "cell_type": "code",
      "metadata": {
        "id": "Yu6TYhTmauIk"
      },
      "source": [
        "nba['x3p.'].fillna(nba['x3p.'].median(),inplace=True)"
      ],
      "execution_count": 17,
      "outputs": []
    },
    {
      "cell_type": "code",
      "metadata": {
        "id": "URwyHLDtbbai"
      },
      "source": [
        "nba['x2p.'].fillna(nba['x2p.'].median(),inplace=True)"
      ],
      "execution_count": 18,
      "outputs": []
    },
    {
      "cell_type": "code",
      "metadata": {
        "id": "M6I-NMzGbgbr"
      },
      "source": [
        "nba['efg.'].fillna(nba['efg.'].median(),inplace=True)"
      ],
      "execution_count": 19,
      "outputs": []
    },
    {
      "cell_type": "code",
      "metadata": {
        "id": "j83knTLgbmCY"
      },
      "source": [
        "nba['ft.'].fillna(nba['ft.'].median(),inplace=True)"
      ],
      "execution_count": 20,
      "outputs": []
    },
    {
      "cell_type": "code",
      "metadata": {
        "colab": {
          "base_uri": "https://localhost:8080/"
        },
        "id": "z8tP5JjBbums",
        "outputId": "2515589d-e703-40d4-ef31-425046447f14"
      },
      "source": [
        "nba.isnull().sum()"
      ],
      "execution_count": 21,
      "outputs": [
        {
          "output_type": "execute_result",
          "data": {
            "text/plain": [
              "player          0\n",
              "pos             0\n",
              "age             0\n",
              "bref_team_id    0\n",
              "g               0\n",
              "gs              0\n",
              "mp              0\n",
              "fg              0\n",
              "fga             0\n",
              "fg.             0\n",
              "x3p             0\n",
              "x3pa            0\n",
              "x3p.            0\n",
              "x2p             0\n",
              "x2pa            0\n",
              "x2p.            0\n",
              "efg.            0\n",
              "ft              0\n",
              "fta             0\n",
              "ft.             0\n",
              "orb             0\n",
              "drb             0\n",
              "trb             0\n",
              "ast             0\n",
              "stl             0\n",
              "blk             0\n",
              "tov             0\n",
              "pf              0\n",
              "pts             0\n",
              "season          0\n",
              "season_end      0\n",
              "dtype: int64"
            ]
          },
          "metadata": {
            "tags": []
          },
          "execution_count": 21
        }
      ]
    },
    {
      "cell_type": "code",
      "metadata": {
        "colab": {
          "base_uri": "https://localhost:8080/"
        },
        "id": "tx_Y0N1jbxT7",
        "outputId": "bd82a3ea-04b2-4769-99ff-94daa267a424"
      },
      "source": [
        "nba['pos'].unique()"
      ],
      "execution_count": 23,
      "outputs": [
        {
          "output_type": "execute_result",
          "data": {
            "text/plain": [
              "array(['SF', 'C', 'PF', 'SG', 'PG', 'G', 'F'], dtype=object)"
            ]
          },
          "metadata": {
            "tags": []
          },
          "execution_count": 23
        }
      ]
    },
    {
      "cell_type": "code",
      "metadata": {
        "colab": {
          "base_uri": "https://localhost:8080/"
        },
        "id": "KRoxPDjfdYGC",
        "outputId": "7cb13701-9002-438b-ba00-cb3e28b7a4b5"
      },
      "source": [
        "nba['pos'].value_counts()"
      ],
      "execution_count": 25,
      "outputs": [
        {
          "output_type": "execute_result",
          "data": {
            "text/plain": [
              "SG    109\n",
              "SF     99\n",
              "PF     96\n",
              "C      90\n",
              "PG     85\n",
              "G       1\n",
              "F       1\n",
              "Name: pos, dtype: int64"
            ]
          },
          "metadata": {
            "tags": []
          },
          "execution_count": 25
        }
      ]
    },
    {
      "cell_type": "code",
      "metadata": {
        "colab": {
          "base_uri": "https://localhost:8080/",
          "height": 408
        },
        "id": "06VC9902dekv",
        "outputId": "1112111d-7a0f-427c-d1ca-91e9064da9b1"
      },
      "source": [
        "new_pos=pd.get_dummies(nba['pos'],prefix='pos',drop_first=True)\n",
        "new_pos"
      ],
      "execution_count": 26,
      "outputs": [
        {
          "output_type": "execute_result",
          "data": {
            "text/html": [
              "<div>\n",
              "<style scoped>\n",
              "    .dataframe tbody tr th:only-of-type {\n",
              "        vertical-align: middle;\n",
              "    }\n",
              "\n",
              "    .dataframe tbody tr th {\n",
              "        vertical-align: top;\n",
              "    }\n",
              "\n",
              "    .dataframe thead th {\n",
              "        text-align: right;\n",
              "    }\n",
              "</style>\n",
              "<table border=\"1\" class=\"dataframe\">\n",
              "  <thead>\n",
              "    <tr style=\"text-align: right;\">\n",
              "      <th></th>\n",
              "      <th>pos_F</th>\n",
              "      <th>pos_G</th>\n",
              "      <th>pos_PF</th>\n",
              "      <th>pos_PG</th>\n",
              "      <th>pos_SF</th>\n",
              "      <th>pos_SG</th>\n",
              "    </tr>\n",
              "  </thead>\n",
              "  <tbody>\n",
              "    <tr>\n",
              "      <th>0</th>\n",
              "      <td>0</td>\n",
              "      <td>0</td>\n",
              "      <td>0</td>\n",
              "      <td>0</td>\n",
              "      <td>1</td>\n",
              "      <td>0</td>\n",
              "    </tr>\n",
              "    <tr>\n",
              "      <th>1</th>\n",
              "      <td>0</td>\n",
              "      <td>0</td>\n",
              "      <td>0</td>\n",
              "      <td>0</td>\n",
              "      <td>0</td>\n",
              "      <td>0</td>\n",
              "    </tr>\n",
              "    <tr>\n",
              "      <th>2</th>\n",
              "      <td>0</td>\n",
              "      <td>0</td>\n",
              "      <td>1</td>\n",
              "      <td>0</td>\n",
              "      <td>0</td>\n",
              "      <td>0</td>\n",
              "    </tr>\n",
              "    <tr>\n",
              "      <th>3</th>\n",
              "      <td>0</td>\n",
              "      <td>0</td>\n",
              "      <td>0</td>\n",
              "      <td>0</td>\n",
              "      <td>0</td>\n",
              "      <td>1</td>\n",
              "    </tr>\n",
              "    <tr>\n",
              "      <th>4</th>\n",
              "      <td>0</td>\n",
              "      <td>0</td>\n",
              "      <td>0</td>\n",
              "      <td>0</td>\n",
              "      <td>0</td>\n",
              "      <td>0</td>\n",
              "    </tr>\n",
              "    <tr>\n",
              "      <th>...</th>\n",
              "      <td>...</td>\n",
              "      <td>...</td>\n",
              "      <td>...</td>\n",
              "      <td>...</td>\n",
              "      <td>...</td>\n",
              "      <td>...</td>\n",
              "    </tr>\n",
              "    <tr>\n",
              "      <th>476</th>\n",
              "      <td>0</td>\n",
              "      <td>0</td>\n",
              "      <td>0</td>\n",
              "      <td>0</td>\n",
              "      <td>0</td>\n",
              "      <td>1</td>\n",
              "    </tr>\n",
              "    <tr>\n",
              "      <th>477</th>\n",
              "      <td>0</td>\n",
              "      <td>0</td>\n",
              "      <td>0</td>\n",
              "      <td>0</td>\n",
              "      <td>0</td>\n",
              "      <td>1</td>\n",
              "    </tr>\n",
              "    <tr>\n",
              "      <th>478</th>\n",
              "      <td>0</td>\n",
              "      <td>0</td>\n",
              "      <td>1</td>\n",
              "      <td>0</td>\n",
              "      <td>0</td>\n",
              "      <td>0</td>\n",
              "    </tr>\n",
              "    <tr>\n",
              "      <th>479</th>\n",
              "      <td>0</td>\n",
              "      <td>0</td>\n",
              "      <td>0</td>\n",
              "      <td>0</td>\n",
              "      <td>0</td>\n",
              "      <td>0</td>\n",
              "    </tr>\n",
              "    <tr>\n",
              "      <th>480</th>\n",
              "      <td>0</td>\n",
              "      <td>0</td>\n",
              "      <td>0</td>\n",
              "      <td>0</td>\n",
              "      <td>0</td>\n",
              "      <td>0</td>\n",
              "    </tr>\n",
              "  </tbody>\n",
              "</table>\n",
              "<p>481 rows × 6 columns</p>\n",
              "</div>"
            ],
            "text/plain": [
              "     pos_F  pos_G  pos_PF  pos_PG  pos_SF  pos_SG\n",
              "0        0      0       0       0       1       0\n",
              "1        0      0       0       0       0       0\n",
              "2        0      0       1       0       0       0\n",
              "3        0      0       0       0       0       1\n",
              "4        0      0       0       0       0       0\n",
              "..     ...    ...     ...     ...     ...     ...\n",
              "476      0      0       0       0       0       1\n",
              "477      0      0       0       0       0       1\n",
              "478      0      0       1       0       0       0\n",
              "479      0      0       0       0       0       0\n",
              "480      0      0       0       0       0       0\n",
              "\n",
              "[481 rows x 6 columns]"
            ]
          },
          "metadata": {
            "tags": []
          },
          "execution_count": 26
        }
      ]
    },
    {
      "cell_type": "code",
      "metadata": {
        "id": "hzK73UPxeELY"
      },
      "source": [
        "nba.drop('pos',axis=1,inplace=True)"
      ],
      "execution_count": 27,
      "outputs": []
    },
    {
      "cell_type": "code",
      "metadata": {
        "id": "802zlwWVhvTv"
      },
      "source": [
        "nba.drop('player',axis=1,inplace=True)"
      ],
      "execution_count": 38,
      "outputs": []
    },
    {
      "cell_type": "code",
      "metadata": {
        "id": "L5KRZ_z5h5N7"
      },
      "source": [
        "nba.drop('bref_team_id',axis=1,inplace=True)"
      ],
      "execution_count": 44,
      "outputs": []
    },
    {
      "cell_type": "code",
      "metadata": {
        "id": "-S9d8lDPiKz2"
      },
      "source": [
        "nba.drop('season',axis=1,inplace=True)"
      ],
      "execution_count": 49,
      "outputs": []
    },
    {
      "cell_type": "code",
      "metadata": {
        "colab": {
          "base_uri": "https://localhost:8080/",
          "height": 158
        },
        "id": "0E8zZ0LOeYZk",
        "outputId": "b7ee5742-bd80-485a-c07a-036adcd65f75"
      },
      "source": [
        "df=pd.concat([nba,new_pos],axis=1)\n",
        "df.head(3)"
      ],
      "execution_count": 50,
      "outputs": [
        {
          "output_type": "execute_result",
          "data": {
            "text/html": [
              "<div>\n",
              "<style scoped>\n",
              "    .dataframe tbody tr th:only-of-type {\n",
              "        vertical-align: middle;\n",
              "    }\n",
              "\n",
              "    .dataframe tbody tr th {\n",
              "        vertical-align: top;\n",
              "    }\n",
              "\n",
              "    .dataframe thead th {\n",
              "        text-align: right;\n",
              "    }\n",
              "</style>\n",
              "<table border=\"1\" class=\"dataframe\">\n",
              "  <thead>\n",
              "    <tr style=\"text-align: right;\">\n",
              "      <th></th>\n",
              "      <th>age</th>\n",
              "      <th>g</th>\n",
              "      <th>gs</th>\n",
              "      <th>mp</th>\n",
              "      <th>fg</th>\n",
              "      <th>fga</th>\n",
              "      <th>fg.</th>\n",
              "      <th>x3p</th>\n",
              "      <th>x3pa</th>\n",
              "      <th>x3p.</th>\n",
              "      <th>x2p</th>\n",
              "      <th>x2pa</th>\n",
              "      <th>x2p.</th>\n",
              "      <th>efg.</th>\n",
              "      <th>ft</th>\n",
              "      <th>fta</th>\n",
              "      <th>ft.</th>\n",
              "      <th>orb</th>\n",
              "      <th>drb</th>\n",
              "      <th>trb</th>\n",
              "      <th>ast</th>\n",
              "      <th>stl</th>\n",
              "      <th>blk</th>\n",
              "      <th>tov</th>\n",
              "      <th>pf</th>\n",
              "      <th>pts</th>\n",
              "      <th>season_end</th>\n",
              "      <th>pos_F</th>\n",
              "      <th>pos_G</th>\n",
              "      <th>pos_PF</th>\n",
              "      <th>pos_PG</th>\n",
              "      <th>pos_SF</th>\n",
              "      <th>pos_SG</th>\n",
              "    </tr>\n",
              "  </thead>\n",
              "  <tbody>\n",
              "    <tr>\n",
              "      <th>0</th>\n",
              "      <td>23</td>\n",
              "      <td>63</td>\n",
              "      <td>0</td>\n",
              "      <td>847</td>\n",
              "      <td>66</td>\n",
              "      <td>141</td>\n",
              "      <td>0.468</td>\n",
              "      <td>4</td>\n",
              "      <td>15</td>\n",
              "      <td>0.266667</td>\n",
              "      <td>62</td>\n",
              "      <td>126</td>\n",
              "      <td>0.492063</td>\n",
              "      <td>0.482</td>\n",
              "      <td>35</td>\n",
              "      <td>53</td>\n",
              "      <td>0.660</td>\n",
              "      <td>72</td>\n",
              "      <td>144</td>\n",
              "      <td>216</td>\n",
              "      <td>28</td>\n",
              "      <td>23</td>\n",
              "      <td>26</td>\n",
              "      <td>30</td>\n",
              "      <td>122</td>\n",
              "      <td>171</td>\n",
              "      <td>2013</td>\n",
              "      <td>0</td>\n",
              "      <td>0</td>\n",
              "      <td>0</td>\n",
              "      <td>0</td>\n",
              "      <td>1</td>\n",
              "      <td>0</td>\n",
              "    </tr>\n",
              "    <tr>\n",
              "      <th>1</th>\n",
              "      <td>20</td>\n",
              "      <td>81</td>\n",
              "      <td>20</td>\n",
              "      <td>1197</td>\n",
              "      <td>93</td>\n",
              "      <td>185</td>\n",
              "      <td>0.503</td>\n",
              "      <td>0</td>\n",
              "      <td>0</td>\n",
              "      <td>0.330976</td>\n",
              "      <td>93</td>\n",
              "      <td>185</td>\n",
              "      <td>0.502703</td>\n",
              "      <td>0.503</td>\n",
              "      <td>79</td>\n",
              "      <td>136</td>\n",
              "      <td>0.581</td>\n",
              "      <td>142</td>\n",
              "      <td>190</td>\n",
              "      <td>332</td>\n",
              "      <td>43</td>\n",
              "      <td>40</td>\n",
              "      <td>57</td>\n",
              "      <td>71</td>\n",
              "      <td>203</td>\n",
              "      <td>265</td>\n",
              "      <td>2013</td>\n",
              "      <td>0</td>\n",
              "      <td>0</td>\n",
              "      <td>0</td>\n",
              "      <td>0</td>\n",
              "      <td>0</td>\n",
              "      <td>0</td>\n",
              "    </tr>\n",
              "    <tr>\n",
              "      <th>2</th>\n",
              "      <td>27</td>\n",
              "      <td>53</td>\n",
              "      <td>12</td>\n",
              "      <td>961</td>\n",
              "      <td>143</td>\n",
              "      <td>275</td>\n",
              "      <td>0.520</td>\n",
              "      <td>0</td>\n",
              "      <td>0</td>\n",
              "      <td>0.330976</td>\n",
              "      <td>143</td>\n",
              "      <td>275</td>\n",
              "      <td>0.520000</td>\n",
              "      <td>0.520</td>\n",
              "      <td>76</td>\n",
              "      <td>119</td>\n",
              "      <td>0.639</td>\n",
              "      <td>102</td>\n",
              "      <td>204</td>\n",
              "      <td>306</td>\n",
              "      <td>38</td>\n",
              "      <td>24</td>\n",
              "      <td>36</td>\n",
              "      <td>39</td>\n",
              "      <td>108</td>\n",
              "      <td>362</td>\n",
              "      <td>2013</td>\n",
              "      <td>0</td>\n",
              "      <td>0</td>\n",
              "      <td>1</td>\n",
              "      <td>0</td>\n",
              "      <td>0</td>\n",
              "      <td>0</td>\n",
              "    </tr>\n",
              "  </tbody>\n",
              "</table>\n",
              "</div>"
            ],
            "text/plain": [
              "   age   g  gs    mp   fg  fga  ...  pos_F  pos_G  pos_PF  pos_PG  pos_SF  pos_SG\n",
              "0   23  63   0   847   66  141  ...      0      0       0       0       1       0\n",
              "1   20  81  20  1197   93  185  ...      0      0       0       0       0       0\n",
              "2   27  53  12   961  143  275  ...      0      0       1       0       0       0\n",
              "\n",
              "[3 rows x 33 columns]"
            ]
          },
          "metadata": {
            "tags": []
          },
          "execution_count": 50
        }
      ]
    },
    {
      "cell_type": "code",
      "metadata": {
        "id": "Xk13MKmMgg-E"
      },
      "source": [
        "X=df.drop('pts',axis=1)\n",
        "y=df['pts']"
      ],
      "execution_count": 51,
      "outputs": []
    },
    {
      "cell_type": "code",
      "metadata": {
        "id": "hAB9p5jTfNIQ"
      },
      "source": [
        "from sklearn.model_selection import train_test_split\n",
        "X_train,X_test,y_train,y_test=train_test_split(X,y,test_size=0.2,random_state=42)"
      ],
      "execution_count": 52,
      "outputs": []
    },
    {
      "cell_type": "code",
      "metadata": {
        "colab": {
          "base_uri": "https://localhost:8080/"
        },
        "id": "lIHuZ-ffgtad",
        "outputId": "a0bb1470-0380-486d-edb8-037834801ae4"
      },
      "source": [
        "from sklearn.neighbors import KNeighborsRegressor\n",
        "knr=KNeighborsRegressor()\n",
        "knr.fit(X_train,y_train)"
      ],
      "execution_count": 53,
      "outputs": [
        {
          "output_type": "execute_result",
          "data": {
            "text/plain": [
              "KNeighborsRegressor(algorithm='auto', leaf_size=30, metric='minkowski',\n",
              "                    metric_params=None, n_jobs=None, n_neighbors=5, p=2,\n",
              "                    weights='uniform')"
            ]
          },
          "metadata": {
            "tags": []
          },
          "execution_count": 53
        }
      ]
    },
    {
      "cell_type": "code",
      "metadata": {
        "colab": {
          "base_uri": "https://localhost:8080/"
        },
        "id": "iffZ1bSqibAe",
        "outputId": "9acdecf0-2adf-419c-adc5-c156c5a3e7c6"
      },
      "source": [
        "knr.score(X_test,y_test)"
      ],
      "execution_count": 55,
      "outputs": [
        {
          "output_type": "execute_result",
          "data": {
            "text/plain": [
              "0.979922202735713"
            ]
          },
          "metadata": {
            "tags": []
          },
          "execution_count": 55
        }
      ]
    },
    {
      "cell_type": "code",
      "metadata": {
        "id": "tUjIIelKiime"
      },
      "source": [
        "y_pred=knr.predict(X_test)"
      ],
      "execution_count": 56,
      "outputs": []
    },
    {
      "cell_type": "code",
      "metadata": {
        "colab": {
          "base_uri": "https://localhost:8080/",
          "height": 349
        },
        "id": "oZF5rzuzipaT",
        "outputId": "e50c0bd7-0b41-49a6-972d-2835e0cdd185"
      },
      "source": [
        "difference=pd.DataFrame({'Actual':y_test.tolist(),'Predict':y_pred.tolist()})\n",
        "difference.head(10)"
      ],
      "execution_count": 57,
      "outputs": [
        {
          "output_type": "execute_result",
          "data": {
            "text/html": [
              "<div>\n",
              "<style scoped>\n",
              "    .dataframe tbody tr th:only-of-type {\n",
              "        vertical-align: middle;\n",
              "    }\n",
              "\n",
              "    .dataframe tbody tr th {\n",
              "        vertical-align: top;\n",
              "    }\n",
              "\n",
              "    .dataframe thead th {\n",
              "        text-align: right;\n",
              "    }\n",
              "</style>\n",
              "<table border=\"1\" class=\"dataframe\">\n",
              "  <thead>\n",
              "    <tr style=\"text-align: right;\">\n",
              "      <th></th>\n",
              "      <th>Actual</th>\n",
              "      <th>Predict</th>\n",
              "    </tr>\n",
              "  </thead>\n",
              "  <tbody>\n",
              "    <tr>\n",
              "      <th>0</th>\n",
              "      <td>587</td>\n",
              "      <td>610.2</td>\n",
              "    </tr>\n",
              "    <tr>\n",
              "      <th>1</th>\n",
              "      <td>89</td>\n",
              "      <td>80.8</td>\n",
              "    </tr>\n",
              "    <tr>\n",
              "      <th>2</th>\n",
              "      <td>350</td>\n",
              "      <td>331.0</td>\n",
              "    </tr>\n",
              "    <tr>\n",
              "      <th>3</th>\n",
              "      <td>1417</td>\n",
              "      <td>1350.6</td>\n",
              "    </tr>\n",
              "    <tr>\n",
              "      <th>4</th>\n",
              "      <td>1071</td>\n",
              "      <td>1161.4</td>\n",
              "    </tr>\n",
              "    <tr>\n",
              "      <th>5</th>\n",
              "      <td>338</td>\n",
              "      <td>303.8</td>\n",
              "    </tr>\n",
              "    <tr>\n",
              "      <th>6</th>\n",
              "      <td>54</td>\n",
              "      <td>63.8</td>\n",
              "    </tr>\n",
              "    <tr>\n",
              "      <th>7</th>\n",
              "      <td>879</td>\n",
              "      <td>805.2</td>\n",
              "    </tr>\n",
              "    <tr>\n",
              "      <th>8</th>\n",
              "      <td>225</td>\n",
              "      <td>255.0</td>\n",
              "    </tr>\n",
              "    <tr>\n",
              "      <th>9</th>\n",
              "      <td>298</td>\n",
              "      <td>342.8</td>\n",
              "    </tr>\n",
              "  </tbody>\n",
              "</table>\n",
              "</div>"
            ],
            "text/plain": [
              "   Actual  Predict\n",
              "0     587    610.2\n",
              "1      89     80.8\n",
              "2     350    331.0\n",
              "3    1417   1350.6\n",
              "4    1071   1161.4\n",
              "5     338    303.8\n",
              "6      54     63.8\n",
              "7     879    805.2\n",
              "8     225    255.0\n",
              "9     298    342.8"
            ]
          },
          "metadata": {
            "tags": []
          },
          "execution_count": 57
        }
      ]
    },
    {
      "cell_type": "code",
      "metadata": {
        "colab": {
          "base_uri": "https://localhost:8080/"
        },
        "id": "5JTK-YdUi8Sg",
        "outputId": "3cf14e29-390f-4cb5-d609-b0d93c0df1fc"
      },
      "source": [
        "from sklearn.metrics import mean_squared_error\n",
        "print({'MSE':mean_squared_error(y_test,y_pred)})"
      ],
      "execution_count": 58,
      "outputs": [
        {
          "output_type": "stream",
          "text": [
            "{'MSE': 3485.4837113402054}\n"
          ],
          "name": "stdout"
        }
      ]
    },
    {
      "cell_type": "code",
      "metadata": {
        "id": "vTl36W_ujVBh"
      },
      "source": [
        "from sklearn.preprocessing import StandardScaler\n",
        "sc=StandardScaler()\n",
        "X_scaled=sc.fit_transform(X)"
      ],
      "execution_count": 60,
      "outputs": []
    },
    {
      "cell_type": "code",
      "metadata": {
        "id": "1r5AfZsbj3l4"
      },
      "source": [
        "X_train,X_test,y_train,y_test = train_test_split(X_scaled,y,test_size=0.2,random_state=42)"
      ],
      "execution_count": 61,
      "outputs": []
    },
    {
      "cell_type": "code",
      "metadata": {
        "colab": {
          "base_uri": "https://localhost:8080/"
        },
        "id": "OwPNupw7kFAQ",
        "outputId": "f0c961a2-93ca-4913-b4c7-0e17d604b505"
      },
      "source": [
        "knr_scaled = KNeighborsRegressor()\n",
        "knr_scaled.fit(X_train,y_train)"
      ],
      "execution_count": 63,
      "outputs": [
        {
          "output_type": "execute_result",
          "data": {
            "text/plain": [
              "KNeighborsRegressor(algorithm='auto', leaf_size=30, metric='minkowski',\n",
              "                    metric_params=None, n_jobs=None, n_neighbors=5, p=2,\n",
              "                    weights='uniform')"
            ]
          },
          "metadata": {
            "tags": []
          },
          "execution_count": 63
        }
      ]
    },
    {
      "cell_type": "code",
      "metadata": {
        "colab": {
          "base_uri": "https://localhost:8080/"
        },
        "id": "FcrL64jGkK39",
        "outputId": "e77335fd-9e08-469b-88cb-d89aad654b72"
      },
      "source": [
        "knr_scaled.score(X_test,y_test)"
      ],
      "execution_count": 64,
      "outputs": [
        {
          "output_type": "execute_result",
          "data": {
            "text/plain": [
              "0.9660238471087537"
            ]
          },
          "metadata": {
            "tags": []
          },
          "execution_count": 64
        }
      ]
    },
    {
      "cell_type": "code",
      "metadata": {
        "id": "lpue4jhBkRXl"
      },
      "source": [
        ""
      ],
      "execution_count": null,
      "outputs": []
    }
  ]
}